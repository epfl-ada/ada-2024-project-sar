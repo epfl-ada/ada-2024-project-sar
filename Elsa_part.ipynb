{
 "cells": [
  {
   "cell_type": "code",
   "execution_count": 193,
   "metadata": {},
   "outputs": [],
   "source": [
    "import pandas as pd\n",
    "import numpy as np\n",
    "import matplotlib.pyplot as plt\n",
    "import seaborn as sns\n",
    "import math"
   ]
  },
  {
   "cell_type": "markdown",
   "metadata": {},
   "source": [
    "## Load data"
   ]
  },
  {
   "cell_type": "code",
   "execution_count": 194,
   "metadata": {},
   "outputs": [],
   "source": [
    "data_folder = '../projet/Data/'\n",
    "data_imdb = pd.read_csv(data_folder+'IMDb_data.csv')\n",
    "data_bechdel = pd.read_csv(data_folder+'whole_data.csv')\n",
    "data_character = pd.read_csv(data_folder+'character_metadata.csv')\n",
    "data_original = pd.read_csv(data_folder+'original_movie_data.csv')\n",
    "\n",
    "data_imdb = data_imdb.rename(columns={'Freebase_ID': 'Movie_ID'})"
   ]
  },
  {
   "cell_type": "code",
   "execution_count": 195,
   "metadata": {},
   "outputs": [
    {
     "data": {
      "text/plain": [
       "(450669, 13)"
      ]
     },
     "execution_count": 195,
     "metadata": {},
     "output_type": "execute_result"
    }
   ],
   "source": [
    "data_character.shape"
   ]
  },
  {
   "cell_type": "markdown",
   "metadata": {},
   "source": [
    "Adding the rating we go from 81 741 movies to 46 737 movies (lost 35 004 movies so 43%)"
   ]
  },
  {
   "cell_type": "code",
   "execution_count": 196,
   "metadata": {},
   "outputs": [
    {
     "data": {
      "text/html": [
       "<div>\n",
       "<style scoped>\n",
       "    .dataframe tbody tr th:only-of-type {\n",
       "        vertical-align: middle;\n",
       "    }\n",
       "\n",
       "    .dataframe tbody tr th {\n",
       "        vertical-align: top;\n",
       "    }\n",
       "\n",
       "    .dataframe thead th {\n",
       "        text-align: right;\n",
       "    }\n",
       "</style>\n",
       "<table border=\"1\" class=\"dataframe\">\n",
       "  <thead>\n",
       "    <tr style=\"text-align: right;\">\n",
       "      <th></th>\n",
       "      <th>Wiki_ID</th>\n",
       "      <th>Movie_ID</th>\n",
       "      <th>title</th>\n",
       "      <th>release_date</th>\n",
       "      <th>BoxOfficeRevenue</th>\n",
       "      <th>Runtime</th>\n",
       "      <th>Languages</th>\n",
       "      <th>Countries</th>\n",
       "      <th>Genres</th>\n",
       "    </tr>\n",
       "  </thead>\n",
       "  <tbody>\n",
       "    <tr>\n",
       "      <th>0</th>\n",
       "      <td>975900</td>\n",
       "      <td>/m/03vyhn</td>\n",
       "      <td>Ghosts of Mars</td>\n",
       "      <td>2001-08-24</td>\n",
       "      <td>14010832.0</td>\n",
       "      <td>98.0</td>\n",
       "      <td>{\"/m/02h40lc\": \"English Language\"}</td>\n",
       "      <td>{\"/m/09c7w0\": \"United States of America\"}</td>\n",
       "      <td>{\"/m/01jfsb\": \"Thriller\", \"/m/06n90\": \"Science...</td>\n",
       "    </tr>\n",
       "    <tr>\n",
       "      <th>1</th>\n",
       "      <td>3196793</td>\n",
       "      <td>/m/08yl5d</td>\n",
       "      <td>Getting Away with Murder: The JonBenét Ramsey ...</td>\n",
       "      <td>2000-02-16</td>\n",
       "      <td>NaN</td>\n",
       "      <td>95.0</td>\n",
       "      <td>{\"/m/02h40lc\": \"English Language\"}</td>\n",
       "      <td>{\"/m/09c7w0\": \"United States of America\"}</td>\n",
       "      <td>{\"/m/02n4kr\": \"Mystery\", \"/m/03bxz7\": \"Biograp...</td>\n",
       "    </tr>\n",
       "    <tr>\n",
       "      <th>2</th>\n",
       "      <td>28463795</td>\n",
       "      <td>/m/0crgdbh</td>\n",
       "      <td>Brun bitter</td>\n",
       "      <td>1988</td>\n",
       "      <td>NaN</td>\n",
       "      <td>83.0</td>\n",
       "      <td>{\"/m/05f_3\": \"Norwegian Language\"}</td>\n",
       "      <td>{\"/m/05b4w\": \"Norway\"}</td>\n",
       "      <td>{\"/m/0lsxr\": \"Crime Fiction\", \"/m/07s9rl0\": \"D...</td>\n",
       "    </tr>\n",
       "    <tr>\n",
       "      <th>3</th>\n",
       "      <td>9363483</td>\n",
       "      <td>/m/0285_cd</td>\n",
       "      <td>White Of The Eye</td>\n",
       "      <td>1987</td>\n",
       "      <td>NaN</td>\n",
       "      <td>110.0</td>\n",
       "      <td>{\"/m/02h40lc\": \"English Language\"}</td>\n",
       "      <td>{\"/m/07ssc\": \"United Kingdom\"}</td>\n",
       "      <td>{\"/m/01jfsb\": \"Thriller\", \"/m/0glj9q\": \"Erotic...</td>\n",
       "    </tr>\n",
       "    <tr>\n",
       "      <th>4</th>\n",
       "      <td>261236</td>\n",
       "      <td>/m/01mrr1</td>\n",
       "      <td>A Woman in Flames</td>\n",
       "      <td>1983</td>\n",
       "      <td>NaN</td>\n",
       "      <td>106.0</td>\n",
       "      <td>{\"/m/04306rv\": \"German Language\"}</td>\n",
       "      <td>{\"/m/0345h\": \"Germany\"}</td>\n",
       "      <td>{\"/m/07s9rl0\": \"Drama\"}</td>\n",
       "    </tr>\n",
       "  </tbody>\n",
       "</table>\n",
       "</div>"
      ],
      "text/plain": [
       "    Wiki_ID    Movie_ID                                              title  \\\n",
       "0    975900   /m/03vyhn                                     Ghosts of Mars   \n",
       "1   3196793   /m/08yl5d  Getting Away with Murder: The JonBenét Ramsey ...   \n",
       "2  28463795  /m/0crgdbh                                        Brun bitter   \n",
       "3   9363483  /m/0285_cd                                   White Of The Eye   \n",
       "4    261236   /m/01mrr1                                  A Woman in Flames   \n",
       "\n",
       "  release_date  BoxOfficeRevenue  Runtime                           Languages  \\\n",
       "0   2001-08-24        14010832.0     98.0  {\"/m/02h40lc\": \"English Language\"}   \n",
       "1   2000-02-16               NaN     95.0  {\"/m/02h40lc\": \"English Language\"}   \n",
       "2         1988               NaN     83.0  {\"/m/05f_3\": \"Norwegian Language\"}   \n",
       "3         1987               NaN    110.0  {\"/m/02h40lc\": \"English Language\"}   \n",
       "4         1983               NaN    106.0   {\"/m/04306rv\": \"German Language\"}   \n",
       "\n",
       "                                   Countries  \\\n",
       "0  {\"/m/09c7w0\": \"United States of America\"}   \n",
       "1  {\"/m/09c7w0\": \"United States of America\"}   \n",
       "2                     {\"/m/05b4w\": \"Norway\"}   \n",
       "3             {\"/m/07ssc\": \"United Kingdom\"}   \n",
       "4                    {\"/m/0345h\": \"Germany\"}   \n",
       "\n",
       "                                              Genres  \n",
       "0  {\"/m/01jfsb\": \"Thriller\", \"/m/06n90\": \"Science...  \n",
       "1  {\"/m/02n4kr\": \"Mystery\", \"/m/03bxz7\": \"Biograp...  \n",
       "2  {\"/m/0lsxr\": \"Crime Fiction\", \"/m/07s9rl0\": \"D...  \n",
       "3  {\"/m/01jfsb\": \"Thriller\", \"/m/0glj9q\": \"Erotic...  \n",
       "4                            {\"/m/07s9rl0\": \"Drama\"}  "
      ]
     },
     "execution_count": 196,
     "metadata": {},
     "output_type": "execute_result"
    }
   ],
   "source": [
    "data_original.head()"
   ]
  },
  {
   "cell_type": "code",
   "execution_count": 197,
   "metadata": {},
   "outputs": [
    {
     "data": {
      "text/html": [
       "<div>\n",
       "<style scoped>\n",
       "    .dataframe tbody tr th:only-of-type {\n",
       "        vertical-align: middle;\n",
       "    }\n",
       "\n",
       "    .dataframe tbody tr th {\n",
       "        vertical-align: top;\n",
       "    }\n",
       "\n",
       "    .dataframe thead th {\n",
       "        text-align: right;\n",
       "    }\n",
       "</style>\n",
       "<table border=\"1\" class=\"dataframe\">\n",
       "  <thead>\n",
       "    <tr style=\"text-align: right;\">\n",
       "      <th></th>\n",
       "      <th>Wiki_ID</th>\n",
       "      <th>Movie_ID</th>\n",
       "      <th>release_date</th>\n",
       "      <th>character_name</th>\n",
       "      <th>actor_birth_date</th>\n",
       "      <th>actor_gender</th>\n",
       "      <th>actor_height</th>\n",
       "      <th>actor_ethnicity</th>\n",
       "      <th>actor_name</th>\n",
       "      <th>actor_age_movie_released</th>\n",
       "      <th>character/actor_ID</th>\n",
       "      <th>character_ID</th>\n",
       "      <th>Actor_ID</th>\n",
       "    </tr>\n",
       "  </thead>\n",
       "  <tbody>\n",
       "    <tr>\n",
       "      <th>0</th>\n",
       "      <td>975900</td>\n",
       "      <td>/m/03vyhn</td>\n",
       "      <td>2001-08-24</td>\n",
       "      <td>Akooshay</td>\n",
       "      <td>1958-08-26</td>\n",
       "      <td>F</td>\n",
       "      <td>1.620</td>\n",
       "      <td>NaN</td>\n",
       "      <td>Wanda De Jesus</td>\n",
       "      <td>42.0</td>\n",
       "      <td>/m/0bgchxw</td>\n",
       "      <td>/m/0bgcj3x</td>\n",
       "      <td>/m/03wcfv7</td>\n",
       "    </tr>\n",
       "    <tr>\n",
       "      <th>1</th>\n",
       "      <td>975900</td>\n",
       "      <td>/m/03vyhn</td>\n",
       "      <td>2001-08-24</td>\n",
       "      <td>Lieutenant Melanie Ballard</td>\n",
       "      <td>1974-08-15</td>\n",
       "      <td>F</td>\n",
       "      <td>1.780</td>\n",
       "      <td>/m/044038p</td>\n",
       "      <td>Natasha Henstridge</td>\n",
       "      <td>27.0</td>\n",
       "      <td>/m/0jys3m</td>\n",
       "      <td>/m/0bgchn4</td>\n",
       "      <td>/m/0346l4</td>\n",
       "    </tr>\n",
       "    <tr>\n",
       "      <th>2</th>\n",
       "      <td>975900</td>\n",
       "      <td>/m/03vyhn</td>\n",
       "      <td>2001-08-24</td>\n",
       "      <td>Desolation Williams</td>\n",
       "      <td>1969-06-15</td>\n",
       "      <td>M</td>\n",
       "      <td>1.727</td>\n",
       "      <td>/m/0x67</td>\n",
       "      <td>Ice Cube</td>\n",
       "      <td>32.0</td>\n",
       "      <td>/m/0jys3g</td>\n",
       "      <td>/m/0bgchn_</td>\n",
       "      <td>/m/01vw26l</td>\n",
       "    </tr>\n",
       "    <tr>\n",
       "      <th>3</th>\n",
       "      <td>975900</td>\n",
       "      <td>/m/03vyhn</td>\n",
       "      <td>2001-08-24</td>\n",
       "      <td>Sgt Jericho Butler</td>\n",
       "      <td>1967-09-12</td>\n",
       "      <td>M</td>\n",
       "      <td>1.750</td>\n",
       "      <td>NaN</td>\n",
       "      <td>Jason Statham</td>\n",
       "      <td>33.0</td>\n",
       "      <td>/m/02vchl6</td>\n",
       "      <td>/m/0bgchnq</td>\n",
       "      <td>/m/034hyc</td>\n",
       "    </tr>\n",
       "    <tr>\n",
       "      <th>4</th>\n",
       "      <td>975900</td>\n",
       "      <td>/m/03vyhn</td>\n",
       "      <td>2001-08-24</td>\n",
       "      <td>Bashira Kincaid</td>\n",
       "      <td>1977-09-25</td>\n",
       "      <td>F</td>\n",
       "      <td>1.650</td>\n",
       "      <td>NaN</td>\n",
       "      <td>Clea DuVall</td>\n",
       "      <td>23.0</td>\n",
       "      <td>/m/02vbb3r</td>\n",
       "      <td>/m/0bgchp9</td>\n",
       "      <td>/m/01y9xg</td>\n",
       "    </tr>\n",
       "  </tbody>\n",
       "</table>\n",
       "</div>"
      ],
      "text/plain": [
       "   Wiki_ID   Movie_ID release_date              character_name  \\\n",
       "0   975900  /m/03vyhn   2001-08-24                    Akooshay   \n",
       "1   975900  /m/03vyhn   2001-08-24  Lieutenant Melanie Ballard   \n",
       "2   975900  /m/03vyhn   2001-08-24         Desolation Williams   \n",
       "3   975900  /m/03vyhn   2001-08-24          Sgt Jericho Butler   \n",
       "4   975900  /m/03vyhn   2001-08-24             Bashira Kincaid   \n",
       "\n",
       "  actor_birth_date actor_gender  actor_height actor_ethnicity  \\\n",
       "0       1958-08-26            F         1.620             NaN   \n",
       "1       1974-08-15            F         1.780      /m/044038p   \n",
       "2       1969-06-15            M         1.727         /m/0x67   \n",
       "3       1967-09-12            M         1.750             NaN   \n",
       "4       1977-09-25            F         1.650             NaN   \n",
       "\n",
       "           actor_name  actor_age_movie_released character/actor_ID  \\\n",
       "0      Wanda De Jesus                      42.0         /m/0bgchxw   \n",
       "1  Natasha Henstridge                      27.0          /m/0jys3m   \n",
       "2            Ice Cube                      32.0          /m/0jys3g   \n",
       "3       Jason Statham                      33.0         /m/02vchl6   \n",
       "4         Clea DuVall                      23.0         /m/02vbb3r   \n",
       "\n",
       "  character_ID    Actor_ID  \n",
       "0   /m/0bgcj3x  /m/03wcfv7  \n",
       "1   /m/0bgchn4   /m/0346l4  \n",
       "2   /m/0bgchn_  /m/01vw26l  \n",
       "3   /m/0bgchnq   /m/034hyc  \n",
       "4   /m/0bgchp9   /m/01y9xg  "
      ]
     },
     "execution_count": 197,
     "metadata": {},
     "output_type": "execute_result"
    }
   ],
   "source": [
    "data_character.head()"
   ]
  },
  {
   "cell_type": "code",
   "execution_count": 198,
   "metadata": {},
   "outputs": [
    {
     "name": "stdout",
     "output_type": "stream",
     "text": [
      "6902 6902\n"
     ]
    }
   ],
   "source": [
    "#release date given either in YYYY-MM-DD or YYYY so we extract the year release such\n",
    "data_original['Year'] = data_original['release_date'].astype(str).str[:4]\n",
    "data_original['Year'] = pd.to_numeric(data_original['Year'], errors='coerce').astype('Int64')\n",
    "print(data_original['Year'].isna().sum(), data_original['release_date'].isna().sum())"
   ]
  },
  {
   "cell_type": "markdown",
   "metadata": {},
   "source": [
    "## Proportion of female vs male actors"
   ]
  },
  {
   "cell_type": "code",
   "execution_count": 199,
   "metadata": {},
   "outputs": [
    {
     "data": {
      "image/png": "[encoded data removed]",
      "text/plain": [
       "<Figure size 800x500 with 1 Axes>"
      ]
     },
     "metadata": {},
     "output_type": "display_data"
    },
    {
     "name": "stdout",
     "output_type": "stream",
     "text": [
      "Over the 450669 total number of characters there are 134803 women. It represents 33.24 % of the characters.\n"
     ]
    }
   ],
   "source": [
    "# Assuming 'gender' is the column with 'F' and 'M' values\n",
    "gender_counts = data_character['actor_gender'].value_counts()\n",
    "\n",
    "# Plot the distribution of gender\n",
    "plt.figure(figsize=(8, 5))\n",
    "bars = plt.bar(gender_counts.index, gender_counts.values, color=['skyblue', 'lightcoral'])\n",
    "\n",
    "# Add the values on top of the bars\n",
    "for bar in bars:\n",
    "    yval = bar.get_height()\n",
    "    plt.text(bar.get_x() + bar.get_width() / 2, yval + 100, int(yval), ha='center', va='bottom')\n",
    "\n",
    "# Set plot labels and title\n",
    "plt.title('Distribution of Gender (F vs M)')\n",
    "plt.xlabel('Gender')\n",
    "plt.ylabel('Count')\n",
    "plt.xticks(rotation=0)\n",
    "plt.show()\n",
    "\n",
    "print(f\"Over the {data_character.shape[0]} total number of characters there are {gender_counts['F']} women.\",\n",
    "      f\"It represents {100-((data_character.shape[0]-gender_counts['M'])/gender_counts['M']*100):,.4g} % of the characters.\")"
   ]
  },
  {
   "cell_type": "markdown",
   "metadata": {},
   "source": [
    "### Analyze Age"
   ]
  },
  {
   "cell_type": "markdown",
   "metadata": {},
   "source": [
    "Check if there are incorrect values of age and replace with nan value"
   ]
  },
  {
   "cell_type": "code",
   "execution_count": 200,
   "metadata": {},
   "outputs": [
    {
     "name": "stdout",
     "output_type": "stream",
     "text": [
      "There are 1086 actors with invalid ages (<= 0 or >= 90). These have been replaced with NaNs.\n"
     ]
    }
   ],
   "source": [
    "wrong_values = data_character[\n",
    "    (data_character['actor_age_movie_released'] <= 5) |\n",
    "    (data_character['actor_age_movie_released'] >= 90)\n",
    "]\n",
    "\n",
    "data_character.loc[wrong_values.index, 'actor_age_movie_released'] = pd.NA\n",
    "\n",
    "print(f\"There are {wrong_values.shape[0]} actors with invalid ages (<= 0 or >= 90). These have been replaced with NaNs.\")\n"
   ]
  },
  {
   "cell_type": "code",
   "execution_count": 201,
   "metadata": {},
   "outputs": [
    {
     "data": {
      "text/html": [
       "<div>\n",
       "<style scoped>\n",
       "    .dataframe tbody tr th:only-of-type {\n",
       "        vertical-align: middle;\n",
       "    }\n",
       "\n",
       "    .dataframe tbody tr th {\n",
       "        vertical-align: top;\n",
       "    }\n",
       "\n",
       "    .dataframe thead th {\n",
       "        text-align: right;\n",
       "    }\n",
       "</style>\n",
       "<table border=\"1\" class=\"dataframe\">\n",
       "  <thead>\n",
       "    <tr style=\"text-align: right;\">\n",
       "      <th></th>\n",
       "      <th>Wiki_ID</th>\n",
       "      <th>Movie_ID</th>\n",
       "      <th>release_date</th>\n",
       "      <th>character_name</th>\n",
       "      <th>actor_birth_date</th>\n",
       "      <th>actor_gender</th>\n",
       "      <th>actor_height</th>\n",
       "      <th>actor_ethnicity</th>\n",
       "      <th>actor_name</th>\n",
       "      <th>actor_age_movie_released</th>\n",
       "      <th>character/actor_ID</th>\n",
       "      <th>character_ID</th>\n",
       "      <th>Actor_ID</th>\n",
       "    </tr>\n",
       "  </thead>\n",
       "  <tbody>\n",
       "    <tr>\n",
       "      <th>156</th>\n",
       "      <td>27611999</td>\n",
       "      <td>/m/04j284s</td>\n",
       "      <td>1984</td>\n",
       "      <td>Detective Phillip Delroy</td>\n",
       "      <td>1982-02-24</td>\n",
       "      <td>M</td>\n",
       "      <td>1.55</td>\n",
       "      <td>NaN</td>\n",
       "      <td>Kevin O'Connor</td>\n",
       "      <td>1.0</td>\n",
       "      <td>/m/0cg3krb</td>\n",
       "      <td>/m/0g4n1b5</td>\n",
       "      <td>/m/07gm7s</td>\n",
       "    </tr>\n",
       "    <tr>\n",
       "      <th>767</th>\n",
       "      <td>15007384</td>\n",
       "      <td>/m/03h4h5p</td>\n",
       "      <td>1934-05-02</td>\n",
       "      <td>NaN</td>\n",
       "      <td>1963-11-07</td>\n",
       "      <td>NaN</td>\n",
       "      <td>NaN</td>\n",
       "      <td>NaN</td>\n",
       "      <td>Franck Dubosc</td>\n",
       "      <td>-29.0</td>\n",
       "      <td>/m/0bwb9k3</td>\n",
       "      <td>NaN</td>\n",
       "      <td>/m/01wlly9</td>\n",
       "    </tr>\n",
       "    <tr>\n",
       "      <th>2286</th>\n",
       "      <td>2553539</td>\n",
       "      <td>/m/07mlsy</td>\n",
       "      <td>1918-04-14</td>\n",
       "      <td>NaN</td>\n",
       "      <td>1931-03-25</td>\n",
       "      <td>M</td>\n",
       "      <td>NaN</td>\n",
       "      <td>NaN</td>\n",
       "      <td>Tom Wilson</td>\n",
       "      <td>-12.0</td>\n",
       "      <td>/m/0jsqm1</td>\n",
       "      <td>NaN</td>\n",
       "      <td>/m/0382zh</td>\n",
       "    </tr>\n",
       "    <tr>\n",
       "      <th>2720</th>\n",
       "      <td>18241669</td>\n",
       "      <td>/m/05m__6g</td>\n",
       "      <td>1999</td>\n",
       "      <td>5 Year Old Kid</td>\n",
       "      <td>1993-10-08</td>\n",
       "      <td>M</td>\n",
       "      <td>1.75</td>\n",
       "      <td>NaN</td>\n",
       "      <td>Angus T. Jones</td>\n",
       "      <td>5.0</td>\n",
       "      <td>/m/0h2c432</td>\n",
       "      <td>/m/0h2c434</td>\n",
       "      <td>/m/09gn5h</td>\n",
       "    </tr>\n",
       "    <tr>\n",
       "      <th>3892</th>\n",
       "      <td>5917218</td>\n",
       "      <td>/m/0fdf3y</td>\n",
       "      <td>1965</td>\n",
       "      <td>NaN</td>\n",
       "      <td>1983-03-03</td>\n",
       "      <td>F</td>\n",
       "      <td>1.75</td>\n",
       "      <td>NaN</td>\n",
       "      <td>Kim Smith</td>\n",
       "      <td>-18.0</td>\n",
       "      <td>/m/04mb5kf</td>\n",
       "      <td>NaN</td>\n",
       "      <td>/m/03pjkv</td>\n",
       "    </tr>\n",
       "  </tbody>\n",
       "</table>\n",
       "</div>"
      ],
      "text/plain": [
       "       Wiki_ID    Movie_ID release_date            character_name  \\\n",
       "156   27611999  /m/04j284s         1984  Detective Phillip Delroy   \n",
       "767   15007384  /m/03h4h5p   1934-05-02                       NaN   \n",
       "2286   2553539   /m/07mlsy   1918-04-14                       NaN   \n",
       "2720  18241669  /m/05m__6g         1999            5 Year Old Kid   \n",
       "3892   5917218   /m/0fdf3y         1965                       NaN   \n",
       "\n",
       "     actor_birth_date actor_gender  actor_height actor_ethnicity  \\\n",
       "156        1982-02-24            M          1.55             NaN   \n",
       "767        1963-11-07          NaN           NaN             NaN   \n",
       "2286       1931-03-25            M           NaN             NaN   \n",
       "2720       1993-10-08            M          1.75             NaN   \n",
       "3892       1983-03-03            F          1.75             NaN   \n",
       "\n",
       "          actor_name  actor_age_movie_released character/actor_ID  \\\n",
       "156   Kevin O'Connor                       1.0         /m/0cg3krb   \n",
       "767    Franck Dubosc                     -29.0         /m/0bwb9k3   \n",
       "2286      Tom Wilson                     -12.0          /m/0jsqm1   \n",
       "2720  Angus T. Jones                       5.0         /m/0h2c432   \n",
       "3892       Kim Smith                     -18.0         /m/04mb5kf   \n",
       "\n",
       "     character_ID    Actor_ID  \n",
       "156    /m/0g4n1b5   /m/07gm7s  \n",
       "767           NaN  /m/01wlly9  \n",
       "2286          NaN   /m/0382zh  \n",
       "2720   /m/0h2c434   /m/09gn5h  \n",
       "3892          NaN   /m/03pjkv  "
      ]
     },
     "execution_count": 201,
     "metadata": {},
     "output_type": "execute_result"
    }
   ],
   "source": [
    "wrong_values.head()"
   ]
  },
  {
   "cell_type": "code",
   "execution_count": 202,
   "metadata": {},
   "outputs": [
    {
     "name": "stdout",
     "output_type": "stream",
     "text": [
      "There are 6902 missing values in realised year in metadata of movies\n",
      "There are 9995 missing values in realised year in character dataframe\n",
      "There are 106145 missing values in actor birth date year in characters dataframe\n"
     ]
    }
   ],
   "source": [
    "print(f\"There are {data_original['Year'].isna().sum()} missing values in realised year in metadata of movies\")\n",
    "print(f\"There are {data_character['release_date'].isna().sum()} missing values in realised year in character dataframe\")\n",
    "print(f\"There are {data_character['actor_birth_date'].isna().sum()} missing values in actor birth date year in characters dataframe\")"
   ]
  },
  {
   "cell_type": "markdown",
   "metadata": {},
   "source": [
    "Adds release year:"
   ]
  },
  {
   "cell_type": "code",
   "execution_count": 203,
   "metadata": {},
   "outputs": [],
   "source": [
    "merged_df = pd.merge(data_character, data_original[['Movie_ID', 'Year']], on='Movie_ID', suffixes=('_women', '_imdb'), how='left')\n",
    "data_character['release_year'] = merged_df['Year']\n",
    "data_character['birth_year'] = data_character['actor_birth_date'].astype(str).str[:4]\n",
    "data_character['birth_year'] = pd.to_numeric(data_character['birth_year'], errors='coerce').astype('Int64')"
   ]
  },
  {
   "cell_type": "code",
   "execution_count": 204,
   "metadata": {},
   "outputs": [
    {
     "name": "stdout",
     "output_type": "stream",
     "text": [
      "Missing values before process: 159199\n",
      "Missing values after process: 115255\n"
     ]
    }
   ],
   "source": [
    "print(f\"Missing values before process: {data_character['actor_age_movie_released'].isna().sum()}\")\n",
    "\n",
    "nan_indices = data_character[data_character['actor_age_movie_released'].isna()].index\n",
    "calculated_age = (data_character.loc[nan_indices, 'release_year'] - data_character.loc[nan_indices, 'birth_year']).astype(float)\n",
    "data_character.loc[nan_indices, 'actor_age_movie_released'] = calculated_age\n",
    "\n",
    "print(f\"Missing values after process: {data_character['actor_age_movie_released'].isna().sum()}\")"
   ]
  },
  {
   "cell_type": "code",
   "execution_count": 205,
   "metadata": {},
   "outputs": [
    {
     "data": {
      "text/plain": [
       "Wiki_ID                          15007384\n",
       "Movie_ID                       /m/03h4h5p\n",
       "release_date                   1934-05-02\n",
       "character_name                        NaN\n",
       "actor_birth_date               1963-11-07\n",
       "actor_gender                          NaN\n",
       "actor_height                          NaN\n",
       "actor_ethnicity                       NaN\n",
       "actor_name                  Franck Dubosc\n",
       "actor_age_movie_released            -29.0\n",
       "character/actor_ID             /m/0bwb9k3\n",
       "character_ID                          NaN\n",
       "Actor_ID                       /m/01wlly9\n",
       "release_year                         1934\n",
       "birth_year                           1963\n",
       "Name: 767, dtype: object"
      ]
     },
     "execution_count": 205,
     "metadata": {},
     "output_type": "execute_result"
    }
   ],
   "source": [
    "data_character.loc[767]"
   ]
  },
  {
   "cell_type": "markdown",
   "metadata": {},
   "source": [
    "Some actors are associated with wrong movie! Ex with Franck Dubosc associated with \"Le grand jeu\" in which he never played and which was released before his birth."
   ]
  },
  {
   "cell_type": "markdown",
   "metadata": {},
   "source": [
    "There is no way to know when it it the case in general but we can still remove every characters for which the birth year of the actor is smaller than the release year of the movie."
   ]
  },
  {
   "cell_type": "code",
   "execution_count": 206,
   "metadata": {},
   "outputs": [
    {
     "name": "stdout",
     "output_type": "stream",
     "text": [
      "There are 1072 actors with negative or 0 age when movie released. They have been deleted\n",
      "(449597, 15)\n"
     ]
    }
   ],
   "source": [
    "valid_data = data_character['actor_age_movie_released'].dropna()\n",
    "wrong_values = valid_data[(data_character['actor_age_movie_released'] <=5) | \n",
    "                                (data_character['actor_age_movie_released'] >=90)]\n",
    "wrong_values = wrong_values.reset_index()\n",
    "wrong_values.columns = ['ID', 'actor_age_movie_released']\n",
    "\n",
    "data_character.drop(wrong_values['ID'], axis=0, inplace=True)\n",
    "#Replace \n",
    "print(f'There are {wrong_values.shape[0]} actors with negative or 0 age when movie released. They have been deleted')\n",
    "print(data_character.shape)"
   ]
  },
  {
   "cell_type": "markdown",
   "metadata": {},
   "source": [
    "### Select only woman actress"
   ]
  },
  {
   "cell_type": "code",
   "execution_count": 207,
   "metadata": {},
   "outputs": [],
   "source": [
    "women_data = data_character[data_character['actor_gender']=='F'].copy()\n",
    "men_data = data_character[data_character['actor_gender']=='M'].copy()\n",
    "      "
   ]
  },
  {
   "cell_type": "code",
   "execution_count": 208,
   "metadata": {},
   "outputs": [
    {
     "data": {
      "image/png": "[encoded data removed]",
      "text/plain": [
       "<Figure size 1000x600 with 1 Axes>"
      ]
     },
     "metadata": {},
     "output_type": "display_data"
    }
   ],
   "source": [
    "import matplotlib.pyplot as plt\n",
    "\n",
    "# Separate the ages by gender\n",
    "female_ages = data_character[data_character['actor_gender'] == 'F']['actor_age_movie_released'].dropna()\n",
    "male_ages = data_character[data_character['actor_gender'] == 'M']['actor_age_movie_released'].dropna()\n",
    "\n",
    "# Create the plot\n",
    "plt.figure(figsize=(10, 6))\n",
    "\n",
    "# Plot histograms for both genders\n",
    "plt.hist(female_ages, bins=30, alpha=0.5, label='Female', color='red')\n",
    "plt.hist(male_ages, bins=30, alpha=0.5, label='Male', color='blue')\n",
    "\n",
    "# Add labels and title\n",
    "plt.xlabel('Age of Actor at Movie Release')\n",
    "plt.ylabel('Frequency')\n",
    "plt.title('Distribution of Actor Age at Movie Release by Gender')\n",
    "\n",
    "# Add legend\n",
    "plt.legend()\n",
    "\n",
    "# Show the plot\n",
    "plt.show()\n"
   ]
  },
  {
   "cell_type": "code",
   "execution_count": 209,
   "metadata": {},
   "outputs": [
    {
     "name": "stderr",
     "output_type": "stream",
     "text": [
      "/var/folders/yc/lz46krrd2mj9d_tjm637grg40000gn/T/ipykernel_37497/1076488913.py:10: FutureWarning: \n",
      "\n",
      "Passing `palette` without assigning `hue` is deprecated and will be removed in v0.14.0. Assign the `x` variable to `hue` and set `legend=False` for the same effect.\n",
      "\n",
      "  ax = sns.boxplot(\n"
     ]
    },
    {
     "data": {
      "image/png": "[encoded data removed]",
      "text/plain": [
       "<Figure size 1000x600 with 1 Axes>"
      ]
     },
     "metadata": {},
     "output_type": "display_data"
    }
   ],
   "source": [
    "import matplotlib.pyplot as plt\n",
    "import seaborn as sns\n",
    "\n",
    "# Define custom colors for genders\n",
    "colors = {'F': 'lightcoral', 'M': 'skyblue'}\n",
    "\n",
    "plt.figure(figsize=(10, 6))\n",
    "\n",
    "# Create the box plot with custom colors\n",
    "ax = sns.boxplot(\n",
    "    data=data_character,\n",
    "    x='actor_gender',\n",
    "    y='actor_age_movie_released',\n",
    "    palette=colors\n",
    ")\n",
    "\n",
    "# Calculate median values for each gender\n",
    "median_values = data_character.groupby('actor_gender')['actor_age_movie_released'].median()\n",
    "\n",
    "# Annotate the median values on the plot\n",
    "for i, (gender, median) in enumerate(median_values.items()):\n",
    "    ax.text(i, median, f'{median:.1f}', color='black', ha='center', va='bottom', fontsize=10)\n",
    "\n",
    "# Add labels and title\n",
    "plt.xlabel('Gender')\n",
    "plt.ylabel('Age of Actor at Movie Release')\n",
    "plt.title('Box Plot of Actor Age at Movie Release by Gender (with Median Values)')\n",
    "\n",
    "# Show the plot\n",
    "plt.show()\n"
   ]
  },
  {
   "cell_type": "markdown",
   "metadata": {},
   "source": [
    "# Actors' height"
   ]
  },
  {
   "cell_type": "code",
   "execution_count": 210,
   "metadata": {},
   "outputs": [
    {
     "data": {
      "text/plain": [
       "(449597, 15)"
      ]
     },
     "execution_count": 210,
     "metadata": {},
     "output_type": "execute_result"
    }
   ],
   "source": [
    "data_character.shape"
   ]
  },
  {
   "cell_type": "code",
   "execution_count": 211,
   "metadata": {},
   "outputs": [
    {
     "name": "stdout",
     "output_type": "stream",
     "text": [
      "There are 15 actors with invalid height (<= 0 or >= 90). These have been replaced with NaNs.\n"
     ]
    }
   ],
   "source": [
    "wrong_values = data_character[\n",
    "    (data_character['actor_height'] < 0.8) |\n",
    "    (data_character['actor_height'] > 2.72)\n",
    "] #2 m 72 is the world's record for height: Robert Wadlow\n",
    "\n",
    "data_character.loc[wrong_values.index, 'actor_height'] = pd.NA\n",
    "\n",
    "print(f\"There are {wrong_values.shape[0]} actors with invalid height (<= 0 or >= 90). These have been replaced with NaNs.\")"
   ]
  },
  {
   "cell_type": "markdown",
   "metadata": {},
   "source": [
    "Since there are only a very small number of actors with wrong height format we will just discard them and not try to put it back to the right format"
   ]
  },
  {
   "cell_type": "code",
   "execution_count": 216,
   "metadata": {},
   "outputs": [
    {
     "data": {
      "text/plain": [
       "(135520, 15)"
      ]
     },
     "execution_count": 216,
     "metadata": {},
     "output_type": "execute_result"
    }
   ],
   "source": [
    "#To analyse height we want only one occurence per actor\n",
    "unique_actors_df = data_character.drop_duplicates(subset=['Actor_ID'], keep='first').copy()\n",
    "unique_actors_df.shape"
   ]
  },
  {
   "cell_type": "code",
   "execution_count": 215,
   "metadata": {},
   "outputs": [
    {
     "name": "stderr",
     "output_type": "stream",
     "text": [
      "/var/folders/yc/lz46krrd2mj9d_tjm637grg40000gn/T/ipykernel_37497/3818932336.py:10: FutureWarning: \n",
      "\n",
      "Passing `palette` without assigning `hue` is deprecated and will be removed in v0.14.0. Assign the `x` variable to `hue` and set `legend=False` for the same effect.\n",
      "\n",
      "  ax = sns.boxplot(\n"
     ]
    },
    {
     "data": {
      "image/png": "[encoded data removed]",
      "text/plain": [
       "<Figure size 1000x600 with 1 Axes>"
      ]
     },
     "metadata": {},
     "output_type": "display_data"
    }
   ],
   "source": [
    "import matplotlib.pyplot as plt\n",
    "import seaborn as sns\n",
    "\n",
    "# Define custom colors for genders\n",
    "colors = {'F': 'lightcoral', 'M': 'skyblue'}\n",
    "\n",
    "plt.figure(figsize=(10, 6))\n",
    "\n",
    "# Create the box plot with custom colors\n",
    "ax = sns.boxplot(\n",
    "    data=unique_actors_df,\n",
    "    x='actor_gender',\n",
    "    y='actor_height',\n",
    "    palette=colors\n",
    ")\n",
    "\n",
    "# Calculate median values for each gender\n",
    "median_values = data_character.groupby('actor_gender')['actor_height'].median()\n",
    "\n",
    "# Annotate the median values on the plot\n",
    "for i, (gender, median) in enumerate(median_values.items()):\n",
    "    ax.text(i, median, f'{median:.1f}', color='black', ha='center', va='bottom', fontsize=10)\n",
    "\n",
    "# Add labels and title\n",
    "plt.xlabel('Gender')\n",
    "plt.ylabel('Actor height')\n",
    "plt.title('Box Plot of Actor Age at Movie Release by Gender (with Median Values)')\n",
    "\n",
    "# Show the plot\n",
    "plt.show()\n"
   ]
  },
  {
   "cell_type": "code",
   "execution_count": null,
   "metadata": {},
   "outputs": [],
   "source": []
  }
 ],
 "metadata": {
  "kernelspec": {
   "display_name": "ada",
   "language": "python",
   "name": "python3"
  },
  "language_info": {
   "codemirror_mode": {
    "name": "ipython",
    "version": 3
   },
   "file_extension": ".py",
   "mimetype": "text/x-python",
   "name": "python",
   "nbconvert_exporter": "python",
   "pygments_lexer": "ipython3",
   "version": "3.11.9"
  }
 },
 "nbformat": 4,
 "nbformat_minor": 2
}
