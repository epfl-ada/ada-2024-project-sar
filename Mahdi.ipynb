{
 "cells": [
  {
   "cell_type": "code",
   "execution_count": 2,
   "metadata": {},
   "outputs": [],
   "source": [
    "import pandas as pd\n",
    "import numpy as np\n",
    "import matplotlib.pyplot as plt\n",
    "import seaborn as sns\n",
    "import math\n",
    "import kagglehub\n",
    "import os"
   ]
  },
  {
   "cell_type": "code",
   "execution_count": 3,
   "metadata": {},
   "outputs": [
    {
     "data": {
      "text/plain": [
       "(81513, 12)"
      ]
     },
     "execution_count": 3,
     "metadata": {},
     "output_type": "execute_result"
    }
   ],
   "source": [
    "data_folder = './Data/'\n",
    "movie_data = pd.read_csv(data_folder+'clean_data_original.csv')\n",
    "budget_data = pd.read_csv(data_folder+'movie_data_tmbd.csv', sep='|', engine='python')\n",
    "\n",
    "\n",
    "movie_data.shape"
   ]
  },
  {
   "cell_type": "code",
   "execution_count": 5,
   "metadata": {},
   "outputs": [
    {
     "data": {
      "text/plain": [
       "(14074, 27)"
      ]
     },
     "execution_count": 5,
     "metadata": {},
     "output_type": "execute_result"
    }
   ],
   "source": [
    "#remove the lines where the budget is equal to 0 and nan because it means for both that we don't have an information on the budget\n",
    "budget_data['budget'] = pd.to_numeric(budget_data['budget'], errors='coerce')\n",
    "\n",
    "budget_data_clean = budget_data[budget_data['budget'].notna() & (budget_data['budget'] != 0)]\n",
    "budget_data_clean = budget_data_clean.drop_duplicates(subset='imdb_id')\n",
    "budget_data_clean.shape"
   ]
  },
  {
   "cell_type": "code",
   "execution_count": null,
   "metadata": {},
   "outputs": [
    {
     "data": {
      "text/plain": [
       "(3519, 13)"
      ]
     },
     "execution_count": 7,
     "metadata": {},
     "output_type": "execute_result"
    }
   ],
   "source": [
    "# now merging the two data sets\n",
    "\n",
    "movie_data.rename(columns={'Runtime':'runtime'}, inplace=True)\n",
    "\n",
    "merged_data_budget = movie_data.merge(budget_data_clean[['title', 'runtime', 'budget']], \n",
    "                               on=['title', 'runtime'], \n",
    "                               how='inner')\n",
    "\n",
    "merged_data_budget.shape\n",
    "merged_data_budget.head(5)"
   ]
  },
  {
   "cell_type": "code",
   "execution_count": 9,
   "metadata": {},
   "outputs": [
    {
     "data": {
      "text/plain": [
       "(3031, 15)"
      ]
     },
     "execution_count": 9,
     "metadata": {},
     "output_type": "execute_result"
    }
   ],
   "source": [
    "imdb_data = pd.read_csv(data_folder+'clean_data_imdb.csv')\n",
    "\n",
    "imdb_data.rename(columns={'BoxOfficeRevenue':'BoxOfficeRevenueImdb'}, inplace=True)\n",
    "\n",
    "#merge the imdb data with the merged data and only add the colum BoxofficerevenueImdb and the column ratingStandardize to the merged data\n",
    "imdb_data.rename(columns={'Runtime':'runtime'}, inplace=True)\n",
    "\n",
    "\n",
    "\n",
    "merged_data_imdb = merged_data_budget.merge(imdb_data[['title', 'BoxOfficeRevenueImdb', 'RatingStandardize', 'runtime']],\n",
    "                       on=['title','runtime'], \n",
    "                       how='inner')\n",
    "\n",
    "merged_data_imdb.shape"
   ]
  },
  {
   "cell_type": "code",
   "execution_count": 10,
   "metadata": {},
   "outputs": [
    {
     "name": "stdout",
     "output_type": "stream",
     "text": [
      "0.08997550131860477\n"
     ]
    },
    {
     "name": "stderr",
     "output_type": "stream",
     "text": [
      "C:\\Users\\mehdi\\AppData\\Local\\Temp\\ipykernel_31656\\2059975187.py:5: SettingWithCopyWarning: \n",
      "A value is trying to be set on a copy of a slice from a DataFrame.\n",
      "Try using .loc[row_indexer,col_indexer] = value instead\n",
      "\n",
      "See the caveats in the documentation: https://pandas.pydata.org/pandas-docs/stable/user_guide/indexing.html#returning-a-view-versus-a-copy\n",
      "  merged_data_imdb_clean['BoxOfficeRevenue'] = merged_data_imdb_clean['BoxOfficeRevenue'].fillna(merged_data_imdb_clean['BoxOfficeRevenueImdb'])\n",
      "C:\\Users\\mehdi\\AppData\\Local\\Temp\\ipykernel_31656\\2059975187.py:6: SettingWithCopyWarning: \n",
      "A value is trying to be set on a copy of a slice from a DataFrame.\n",
      "Try using .loc[row_indexer,col_indexer] = value instead\n",
      "\n",
      "See the caveats in the documentation: https://pandas.pydata.org/pandas-docs/stable/user_guide/indexing.html#returning-a-view-versus-a-copy\n",
      "  merged_data_imdb_clean['BoxOfficeRevenueImdb'] = merged_data_imdb_clean['BoxOfficeRevenueImdb'].fillna(merged_data_imdb_clean['BoxOfficeRevenue'])\n",
      "C:\\Users\\mehdi\\AppData\\Local\\Temp\\ipykernel_31656\\2059975187.py:13: SettingWithCopyWarning: \n",
      "A value is trying to be set on a copy of a slice from a DataFrame.\n",
      "Try using .loc[row_indexer,col_indexer] = value instead\n",
      "\n",
      "See the caveats in the documentation: https://pandas.pydata.org/pandas-docs/stable/user_guide/indexing.html#returning-a-view-versus-a-copy\n",
      "  merged_data_imdb_clean['BoxOfficeRevenueDifference'] = percentage_difference(merged_data_imdb_clean['BoxOfficeRevenue'], merged_data_imdb_clean['BoxOfficeRevenueImdb'])\n"
     ]
    },
    {
     "data": {
      "text/html": [
       "<div>\n",
       "<style scoped>\n",
       "    .dataframe tbody tr th:only-of-type {\n",
       "        vertical-align: middle;\n",
       "    }\n",
       "\n",
       "    .dataframe tbody tr th {\n",
       "        vertical-align: top;\n",
       "    }\n",
       "\n",
       "    .dataframe thead th {\n",
       "        text-align: right;\n",
       "    }\n",
       "</style>\n",
       "<table border=\"1\" class=\"dataframe\">\n",
       "  <thead>\n",
       "    <tr style=\"text-align: right;\">\n",
       "      <th></th>\n",
       "      <th>Unnamed: 0</th>\n",
       "      <th>Wiki_ID</th>\n",
       "      <th>Movie_ID</th>\n",
       "      <th>title</th>\n",
       "      <th>release_date</th>\n",
       "      <th>BoxOfficeRevenue</th>\n",
       "      <th>runtime</th>\n",
       "      <th>Languages</th>\n",
       "      <th>Countries</th>\n",
       "      <th>Genres</th>\n",
       "      <th>Year</th>\n",
       "      <th>BoxOfficeStandardize</th>\n",
       "      <th>budget</th>\n",
       "      <th>BoxOfficeRevenueImdb</th>\n",
       "      <th>RatingStandardize</th>\n",
       "      <th>BoxOfficeRevenueDifference</th>\n",
       "    </tr>\n",
       "  </thead>\n",
       "  <tbody>\n",
       "    <tr>\n",
       "      <th>2394</th>\n",
       "      <td>64280</td>\n",
       "      <td>2390149</td>\n",
       "      <td>/m/078m6t</td>\n",
       "      <td>Corky Romano</td>\n",
       "      <td>2001</td>\n",
       "      <td>23900000.0</td>\n",
       "      <td>86.0</td>\n",
       "      <td>{\"/m/02h40lc\": \"English Language\"}</td>\n",
       "      <td>{\"/m/09c7w0\": \"United States of America\"}</td>\n",
       "      <td>{\"/m/0lsxr\": \"Crime Fiction\", \"/m/0gw5w78\": \"G...</td>\n",
       "      <td>2001.0</td>\n",
       "      <td>0.008587</td>\n",
       "      <td>11000000.0</td>\n",
       "      <td>23900000.0</td>\n",
       "      <td>0.47</td>\n",
       "      <td>0.0</td>\n",
       "    </tr>\n",
       "    <tr>\n",
       "      <th>1261</th>\n",
       "      <td>33668</td>\n",
       "      <td>66853</td>\n",
       "      <td>/m/0hmm7</td>\n",
       "      <td>The Conversation</td>\n",
       "      <td>1974-04-07</td>\n",
       "      <td>4420000.0</td>\n",
       "      <td>113.0</td>\n",
       "      <td>{\"/m/02h40lc\": \"English Language\"}</td>\n",
       "      <td>{\"/m/09c7w0\": \"United States of America\"}</td>\n",
       "      <td>{\"/m/01jfsb\": \"Thriller\", \"/m/02n4kr\": \"Myster...</td>\n",
       "      <td>1974.0</td>\n",
       "      <td>0.001585</td>\n",
       "      <td>1600000.0</td>\n",
       "      <td>4420000.0</td>\n",
       "      <td>0.77</td>\n",
       "      <td>0.0</td>\n",
       "    </tr>\n",
       "    <tr>\n",
       "      <th>1494</th>\n",
       "      <td>40713</td>\n",
       "      <td>58018</td>\n",
       "      <td>/m/0fxb2</td>\n",
       "      <td>Tora! Tora! Tora!</td>\n",
       "      <td>1970</td>\n",
       "      <td>29548291.0</td>\n",
       "      <td>144.0</td>\n",
       "      <td>{\"/m/03_9r\": \"Japanese Language\", \"/m/02h40lc\"...</td>\n",
       "      <td>{\"/m/09c7w0\": \"United States of America\", \"/m/...</td>\n",
       "      <td>{\"/m/0gw5n2f\": \"Japanese Movies\", \"/m/02p0szs\"...</td>\n",
       "      <td>1970.0</td>\n",
       "      <td>0.010617</td>\n",
       "      <td>25485000.0</td>\n",
       "      <td>29548291.0</td>\n",
       "      <td>0.75</td>\n",
       "      <td>0.0</td>\n",
       "    </tr>\n",
       "    <tr>\n",
       "      <th>2755</th>\n",
       "      <td>74174</td>\n",
       "      <td>4836948</td>\n",
       "      <td>/m/0cq8nx</td>\n",
       "      <td>Mrs. Miniver</td>\n",
       "      <td>1942-06-04</td>\n",
       "      <td>8878000.0</td>\n",
       "      <td>134.0</td>\n",
       "      <td>{\"/m/02h40lc\": \"English Language\"}</td>\n",
       "      <td>{\"/m/09c7w0\": \"United States of America\", \"/m/...</td>\n",
       "      <td>{\"/m/05swd\": \"Propaganda film\", \"/m/02h8pkk\": ...</td>\n",
       "      <td>1942.0</td>\n",
       "      <td>0.003187</td>\n",
       "      <td>1344000.0</td>\n",
       "      <td>8878000.0</td>\n",
       "      <td>0.76</td>\n",
       "      <td>0.0</td>\n",
       "    </tr>\n",
       "    <tr>\n",
       "      <th>1090</th>\n",
       "      <td>29072</td>\n",
       "      <td>452767</td>\n",
       "      <td>/m/02vzxsf</td>\n",
       "      <td>Underworld</td>\n",
       "      <td>2003-09-19</td>\n",
       "      <td>95708457.0</td>\n",
       "      <td>121.0</td>\n",
       "      <td>{\"/m/02h40lc\": \"English Language\"}</td>\n",
       "      <td>{\"/m/09c7w0\": \"United States of America\", \"/m/...</td>\n",
       "      <td>{\"/m/01jfsb\": \"Thriller\", \"/m/03npn\": \"Horror\"...</td>\n",
       "      <td>2003.0</td>\n",
       "      <td>0.034396</td>\n",
       "      <td>22000000.0</td>\n",
       "      <td>95708457.0</td>\n",
       "      <td>0.70</td>\n",
       "      <td>0.0</td>\n",
       "    </tr>\n",
       "  </tbody>\n",
       "</table>\n",
       "</div>"
      ],
      "text/plain": [
       "      Unnamed: 0  Wiki_ID    Movie_ID              title release_date  \\\n",
       "2394       64280  2390149   /m/078m6t       Corky Romano         2001   \n",
       "1261       33668    66853    /m/0hmm7   The Conversation   1974-04-07   \n",
       "1494       40713    58018    /m/0fxb2  Tora! Tora! Tora!         1970   \n",
       "2755       74174  4836948   /m/0cq8nx       Mrs. Miniver   1942-06-04   \n",
       "1090       29072   452767  /m/02vzxsf         Underworld   2003-09-19   \n",
       "\n",
       "      BoxOfficeRevenue  runtime  \\\n",
       "2394        23900000.0     86.0   \n",
       "1261         4420000.0    113.0   \n",
       "1494        29548291.0    144.0   \n",
       "2755         8878000.0    134.0   \n",
       "1090        95708457.0    121.0   \n",
       "\n",
       "                                              Languages  \\\n",
       "2394                 {\"/m/02h40lc\": \"English Language\"}   \n",
       "1261                 {\"/m/02h40lc\": \"English Language\"}   \n",
       "1494  {\"/m/03_9r\": \"Japanese Language\", \"/m/02h40lc\"...   \n",
       "2755                 {\"/m/02h40lc\": \"English Language\"}   \n",
       "1090                 {\"/m/02h40lc\": \"English Language\"}   \n",
       "\n",
       "                                              Countries  \\\n",
       "2394          {\"/m/09c7w0\": \"United States of America\"}   \n",
       "1261          {\"/m/09c7w0\": \"United States of America\"}   \n",
       "1494  {\"/m/09c7w0\": \"United States of America\", \"/m/...   \n",
       "2755  {\"/m/09c7w0\": \"United States of America\", \"/m/...   \n",
       "1090  {\"/m/09c7w0\": \"United States of America\", \"/m/...   \n",
       "\n",
       "                                                 Genres    Year  \\\n",
       "2394  {\"/m/0lsxr\": \"Crime Fiction\", \"/m/0gw5w78\": \"G...  2001.0   \n",
       "1261  {\"/m/01jfsb\": \"Thriller\", \"/m/02n4kr\": \"Myster...  1974.0   \n",
       "1494  {\"/m/0gw5n2f\": \"Japanese Movies\", \"/m/02p0szs\"...  1970.0   \n",
       "2755  {\"/m/05swd\": \"Propaganda film\", \"/m/02h8pkk\": ...  1942.0   \n",
       "1090  {\"/m/01jfsb\": \"Thriller\", \"/m/03npn\": \"Horror\"...  2003.0   \n",
       "\n",
       "      BoxOfficeStandardize      budget  BoxOfficeRevenueImdb  \\\n",
       "2394              0.008587  11000000.0            23900000.0   \n",
       "1261              0.001585   1600000.0             4420000.0   \n",
       "1494              0.010617  25485000.0            29548291.0   \n",
       "2755              0.003187   1344000.0             8878000.0   \n",
       "1090              0.034396  22000000.0            95708457.0   \n",
       "\n",
       "      RatingStandardize  BoxOfficeRevenueDifference  \n",
       "2394               0.47                         0.0  \n",
       "1261               0.77                         0.0  \n",
       "1494               0.75                         0.0  \n",
       "2755               0.76                         0.0  \n",
       "1090               0.70                         0.0  "
      ]
     },
     "execution_count": 10,
     "metadata": {},
     "output_type": "execute_result"
    }
   ],
   "source": [
    "merged_data_imdb_clean = merged_data_imdb[merged_data_imdb['BoxOfficeRevenueImdb'].notna() | merged_data_imdb['BoxOfficeRevenue'].notna()]\n",
    "\n",
    "# now for all the lines where there is a value for BoxOfficeRevenueImdb and not for BoxOfficeRevenue we will copy the value from BoxOfficeRevenueImdb to BoxOfficeRevenue and vice versa\n",
    "\n",
    "merged_data_imdb_clean['BoxOfficeRevenue'] = merged_data_imdb_clean['BoxOfficeRevenue'].fillna(merged_data_imdb_clean['BoxOfficeRevenueImdb'])\n",
    "merged_data_imdb_clean['BoxOfficeRevenueImdb'] = merged_data_imdb_clean['BoxOfficeRevenueImdb'].fillna(merged_data_imdb_clean['BoxOfficeRevenue'])\n",
    "\n",
    "# now for all the lines where there is a value for BoxOfficeRevenueImdb and for BoxOfficeRevenue we will calculate the difference in percentage between the two values and put it in a new column called BoxOfficeRevenueDifference\n",
    "def percentage_difference(X, Y):                                           \n",
    "\n",
    "    return np.abs((X-Y))/np.maximum(X,Y) * 100\n",
    "\n",
    "merged_data_imdb_clean['BoxOfficeRevenueDifference'] = percentage_difference(merged_data_imdb_clean['BoxOfficeRevenue'], merged_data_imdb_clean['BoxOfficeRevenueImdb'])\n",
    "\n",
    "# print the mean of the BoxOfficeRevenueDifference column\n",
    "\n",
    "print(merged_data_imdb_clean['BoxOfficeRevenueDifference'].mean())\n",
    "\n",
    "\n",
    "merged_data_imdb_clean.sample(5)"
   ]
  },
  {
   "cell_type": "code",
   "execution_count": 11,
   "metadata": {},
   "outputs": [
    {
     "data": {
      "text/plain": [
       "(1904, 16)"
      ]
     },
     "execution_count": 11,
     "metadata": {},
     "output_type": "execute_result"
    }
   ],
   "source": [
    "merged_data_imdb_clean = merged_data_imdb_clean.drop_duplicates(subset='Wiki_ID')\n",
    "\n",
    "merged_data_imdb_clean.shape\n"
   ]
  }
 ],
 "metadata": {
  "kernelspec": {
   "display_name": "ada",
   "language": "python",
   "name": "python3"
  },
  "language_info": {
   "codemirror_mode": {
    "name": "ipython",
    "version": 3
   },
   "file_extension": ".py",
   "mimetype": "text/x-python",
   "name": "python",
   "nbconvert_exporter": "python",
   "pygments_lexer": "ipython3",
   "version": "3.11.9"
  }
 },
 "nbformat": 4,
 "nbformat_minor": 2
}
